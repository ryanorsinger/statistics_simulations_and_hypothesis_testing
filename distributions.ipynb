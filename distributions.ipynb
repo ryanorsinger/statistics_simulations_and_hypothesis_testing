{
 "cells": [
  {
   "cell_type": "code",
   "execution_count": 2,
   "metadata": {},
   "outputs": [],
   "source": [
    "from scipy import stats\n",
    "import numpy as np\n",
    "import pandas as pd\n",
    "import matplotlib.pyplot as plt"
   ]
  },
  {
   "cell_type": "markdown",
   "metadata": {},
   "source": [
    "## Uniform distribution\n",
    "- Uniform means the probability of each outcome is even. This is flipping a coin or rolling dice\n",
    "    - discrete is `.randint`\n",
    "    - continuous is `.uniform`"
   ]
  },
  {
   "cell_type": "code",
   "execution_count": 4,
   "metadata": {},
   "outputs": [],
   "source": [
    "# .randint returns a distribution object\n",
    "die_distribution = stats.randint(1, 7)"
   ]
  },
  {
   "cell_type": "code",
   "execution_count": 8,
   "metadata": {},
   "outputs": [
    {
     "data": {
      "text/plain": [
       "array([3, 6, 6, 1, 1, 4, 1, 6, 5, 1])"
      ]
     },
     "execution_count": 8,
     "metadata": {},
     "output_type": "execute_result"
    }
   ],
   "source": [
    "# methods we can call on the distribution\n",
    "# .rvs pulls random values\n",
    "# the argument gives us \n",
    "die_distribution.rvs(10)"
   ]
  },
  {
   "cell_type": "code",
   "execution_count": 21,
   "metadata": {},
   "outputs": [
    {
     "data": {
      "text/plain": [
       "array([[4, 3],\n",
       "       [6, 4],\n",
       "       [3, 2],\n",
       "       [1, 2]])"
      ]
     },
     "execution_count": 21,
     "metadata": {},
     "output_type": "execute_result"
    }
   ],
   "source": [
    "# Pick 100 trials of rolling 2 dice\n",
    "# Sending in a tuple gives us n_trials of n_events in the trial\n",
    "die_distribution.rvs((4, 2))"
   ]
  },
  {
   "cell_type": "code",
   "execution_count": null,
   "metadata": {},
   "outputs": [],
   "source": [
    "# Focus on the shape of the interaction"
   ]
  },
  {
   "cell_type": "code",
   "execution_count": 9,
   "metadata": {},
   "outputs": [
    {
     "data": {
      "text/plain": [
       "0.16666666666666666"
      ]
     },
     "execution_count": 9,
     "metadata": {},
     "output_type": "execute_result"
    }
   ],
   "source": [
    "# What is the likelihood we roll a 4?\n",
    "# .pmf for the probability mass function\n",
    "die_distribution.pmf(4)"
   ]
  },
  {
   "cell_type": "code",
   "execution_count": null,
   "metadata": {},
   "outputs": [],
   "source": [
    "# What is the probability of rolling a 3 or less\n",
    "die_distribution.cdf(3)"
   ]
  },
  {
   "cell_type": "code",
   "execution_count": 10,
   "metadata": {},
   "outputs": [
    {
     "data": {
      "text/plain": [
       "0.6666666666666667"
      ]
     },
     "execution_count": 10,
     "metadata": {},
     "output_type": "execute_result"
    }
   ],
   "source": [
    "# What is probability of rolling greater than 2\n",
    "# This is a survival function\n",
    "die_distribution.sf(2)"
   ]
  },
  {
   "cell_type": "markdown",
   "metadata": {},
   "source": [
    "## Probability Mass Function\n",
    "- .pmf to look for the likelihood of one specific value (likelihood we roll exactly a 3)\n",
    "- `die_distribution = stats.randint(1, 7)`\n",
    "- `die_distribution.pmf(3)`"
   ]
  },
  {
   "cell_type": "markdown",
   "metadata": {},
   "source": [
    "## Cummulative Density Function\n",
    "- .cdf for probability of an event of n or less (likelihood of rolling a 3 or less)\n",
    "- `die_distribution = stats.randint(1, 7)`\n",
    "- `die_distribution.cdf(3)`"
   ]
  },
  {
   "cell_type": "markdown",
   "metadata": {},
   "source": [
    "## Survival Function\n",
    "- .sf for survival is likelihood of rolling greater than 2\n",
    "- `die_distribution = stats.randint(1, 7)`\n",
    "- `die_distribution.sf(2)` "
   ]
  },
  {
   "cell_type": "code",
   "execution_count": 28,
   "metadata": {},
   "outputs": [
    {
     "data": {
      "text/plain": [
       "0.16666666666666666"
      ]
     },
     "execution_count": 28,
     "metadata": {},
     "output_type": "execute_result"
    }
   ],
   "source": [
    "# what's the p(rolling a 1 on one die)\n",
    "die_dist = stats.randint(1, 7)\n",
    "die_dist.pmf(1)"
   ]
  },
  {
   "cell_type": "code",
   "execution_count": 29,
   "metadata": {},
   "outputs": [
    {
     "data": {
      "text/plain": [
       "0.33333333333333337"
      ]
     },
     "execution_count": 29,
     "metadata": {},
     "output_type": "execute_result"
    }
   ],
   "source": [
    "# What's the p(rolling greater than a 4?)\n",
    "# greater than is survival function \n",
    "die_dist = stats.randint(1, 7)\n",
    "die_dist.sf(4)"
   ]
  },
  {
   "cell_type": "code",
   "execution_count": 32,
   "metadata": {},
   "outputs": [
    {
     "data": {
      "text/plain": [
       "3.0"
      ]
     },
     "execution_count": 32,
     "metadata": {},
     "output_type": "execute_result"
    }
   ],
   "source": [
    "# What's the p(50% of values will be greater than what number)\n",
    "# We'll use inverse survival because \"greather than\" means survival\n",
    "# And inverse survival function takes in probability and gives the number\n",
    "die_dist.isf(.5)"
   ]
  },
  {
   "cell_type": "code",
   "execution_count": null,
   "metadata": {},
   "outputs": [],
   "source": [
    "# What's the p(rolling 11 on 2d6)\n"
   ]
  },
  {
   "cell_type": "markdown",
   "metadata": {},
   "source": [
    "## Normal Distribution\n",
    "- Continuous random variable\n",
    "- the mean $\\mu$ is the center\n",
    "- the standard deviation $\\sigma$ is the \"spread\""
   ]
  },
  {
   "cell_type": "code",
   "execution_count": 43,
   "metadata": {},
   "outputs": [
    {
     "data": {
      "text/plain": [
       "(array([1.300e+01, 1.800e+01, 5.300e+01, 1.530e+02, 2.800e+02, 5.530e+02,\n",
       "        8.810e+02, 1.302e+03, 1.475e+03, 1.507e+03, 1.391e+03, 1.052e+03,\n",
       "        6.680e+02, 3.800e+02, 1.720e+02, 7.200e+01, 1.700e+01, 1.000e+01,\n",
       "        1.000e+00, 2.000e+00]),\n",
       " array([ 6.42117068,  6.81167249,  7.20217429,  7.5926761 ,  7.9831779 ,\n",
       "         8.37367971,  8.76418151,  9.15468331,  9.54518512,  9.93568692,\n",
       "        10.32618873, 10.71669053, 11.10719234, 11.49769414, 11.88819595,\n",
       "        12.27869775, 12.66919955, 13.05970136, 13.45020316, 13.84070497,\n",
       "        14.23120677]),\n",
       " <a list of 20 Patch objects>)"
      ]
     },
     "execution_count": 43,
     "metadata": {},
     "output_type": "execute_result"
    },
    {
     "data": {
      "image/png": "[encoded data removed]",
      "text/plain": [
       "<Figure size 432x288 with 1 Axes>"
      ]
     },
     "metadata": {
      "needs_background": "light"
     },
     "output_type": "display_data"
    }
   ],
   "source": [
    "# .norm takes mean then standard deviation\n",
    "coffee_consumption = stats.norm(10, 1)\n",
    "\n",
    "# .rvs gets n amount\n",
    "plt.hist(coffee_consumption.rvs(10_000), bins=20, ec=\"black\", fc=\"white\")"
   ]
  },
  {
   "cell_type": "code",
   "execution_count": 45,
   "metadata": {},
   "outputs": [
    {
     "data": {
      "text/plain": [
       "0.02280417693265885"
      ]
     },
     "execution_count": 45,
     "metadata": {},
     "output_type": "execute_result"
    }
   ],
   "source": [
    "# what's the probability we'll consume less than 8.5 litres\n",
    "# \"LESS THAN\" a number when we want probability means .cdf \n",
    "coffee_consumption.cdf(8.5)"
   ]
  },
  {
   "cell_type": "code",
   "execution_count": 47,
   "metadata": {},
   "outputs": [
    {
     "data": {
      "text/plain": [
       "10.0"
      ]
     },
     "execution_count": 47,
     "metadata": {},
     "output_type": "execute_result"
    }
   ],
   "source": [
    "# What's the number of litres of coffee we'll consume 50% or less of the values\n",
    "coffee_consumption.ppf(.5)"
   ]
  },
  {
   "cell_type": "code",
   "execution_count": 48,
   "metadata": {},
   "outputs": [
    {
     "data": {
      "text/plain": [
       "9.325510249803918"
      ]
     },
     "execution_count": 48,
     "metadata": {},
     "output_type": "execute_result"
    }
   ],
   "source": [
    "# How little coffee would we have to drink to be in the bottom quarter of all consumptipon?\n",
    "# \"less than\" means .cdf or .ppf\n",
    "# we have a probability and want a value, so it's going to be .ppf\n",
    "coffee_consumption.ppf(.25)"
   ]
  },
  {
   "cell_type": "code",
   "execution_count": 52,
   "metadata": {},
   "outputs": [
    {
     "data": {
      "text/plain": [
       "0.15865525393145707"
      ]
     },
     "execution_count": 52,
     "metadata": {},
     "output_type": "execute_result"
    }
   ],
   "source": [
    "# What's the probability that we'll drink more than 11 litres of coffee?\n",
    "# \"More than\" with needing probability means .sf\n",
    "coffee_consumption.sf(11)"
   ]
  },
  {
   "cell_type": "code",
   "execution_count": 54,
   "metadata": {},
   "outputs": [],
   "source": [
    "# Average internet consumption\n",
    "# Our historical average is 1250GB +- 100GB\n",
    "# Everyone is now working from home, omg!\n",
    "internet_use = stats.norm(1250, 100)"
   ]
  },
  {
   "cell_type": "code",
   "execution_count": 57,
   "metadata": {},
   "outputs": [
    {
     "data": {
      "text/plain": [
       "0.006209665325776132"
      ]
     },
     "execution_count": 57,
     "metadata": {},
     "output_type": "execute_result"
    }
   ],
   "source": [
    "# On Monday, we observed 1500GB of internet usage\n",
    "# How likely is it we would see this number (or higher) due to chance?\n",
    "stats.norm(1250, 100).sf(1500)"
   ]
  },
  {
   "cell_type": "markdown",
   "metadata": {},
   "source": [
    "## Binomial Distribution\n",
    "- discrete random variable; \"number of successes\"\n",
    "- $n$ number of trials (we model many many trials)\n",
    "- $p$, probability of success for one trial\n",
    "- The outcome of one trial is binary "
   ]
  },
  {
   "cell_type": "code",
   "execution_count": 59,
   "metadata": {},
   "outputs": [],
   "source": [
    "# there's a 70% chance a food truck shows up (and 30% it doesn't)\n",
    "# What's the likelihood a food truck shows up two days out of the (work) week?\n",
    "# Outcome is the number of days that a food truck shows up\n",
    "# n trials is simulating 5 days in the week"
   ]
  },
  {
   "cell_type": "code",
   "execution_count": 67,
   "metadata": {},
   "outputs": [
    {
     "data": {
      "text/plain": [
       "0.1323"
      ]
     },
     "execution_count": 67,
     "metadata": {},
     "output_type": "execute_result"
    }
   ],
   "source": [
    "# n is 5\n",
    "# p = probability of the event is .7\n",
    "n = 5\n",
    "p = .7\n",
    "\n",
    "# .pmf(2) because we're looking for a food turck exactly 2 days out of the week.\n",
    "stats.binom(n, p).pmf(2)\n"
   ]
  },
  {
   "cell_type": "code",
   "execution_count": 70,
   "metadata": {},
   "outputs": [
    {
     "data": {
      "text/plain": [
       "0.47178000000000003"
      ]
     },
     "execution_count": 70,
     "metadata": {},
     "output_type": "execute_result"
    }
   ],
   "source": [
    "# What's the likelihood that a food truck shows up 3 or less days in a week?\n",
    "n = 5\n",
    "p = .7\n",
    "stats.binom(n, p).cdf(3) # .cdf b/c we want the probability and we have \"x or less\""
   ]
  },
  {
   "cell_type": "code",
   "execution_count": 71,
   "metadata": {},
   "outputs": [
    {
     "data": {
      "text/plain": [
       "0.16308000000000006"
      ]
     },
     "execution_count": 71,
     "metadata": {},
     "output_type": "execute_result"
    }
   ],
   "source": [
    "# What's the likelihood that a food truck shows up less than three days out of the week?\n",
    "# We don't have a function that answers this, right now, we have a less than or equal to\n",
    "# Rephrase this in order to use our functions\n",
    "# likelihood a food truck shows up 2 or less days days out of the week?\n",
    "n = 5\n",
    "p = .7\n",
    "# we have to transform the problem statement a little\n",
    "# because .cdf is \"less than or equal to\"\n",
    "stats.binom(n, p).cdf(2)"
   ]
  },
  {
   "cell_type": "code",
   "execution_count": 72,
   "metadata": {},
   "outputs": [
    {
     "data": {
      "text/plain": [
       "0.1630800000000001"
      ]
     },
     "execution_count": 72,
     "metadata": {},
     "output_type": "execute_result"
    }
   ],
   "source": [
    "# What's the likelihood that a food truck shows up less than three days out of the week?\n",
    "# p(less than 3 days) is equal to\n",
    "# p(3 or less days) - probability of exactly 3\n",
    "stats.binom(n, p).cdf(3) - stats.binom(n, p).pmf(3)"
   ]
  },
  {
   "cell_type": "code",
   "execution_count": 75,
   "metadata": {},
   "outputs": [
    {
     "data": {
      "text/plain": [
       "0.1630800000000001"
      ]
     },
     "execution_count": 75,
     "metadata": {},
     "output_type": "execute_result"
    }
   ],
   "source": [
    "# What's the likelihood that a food truck shows up less than three days out of the week?\n",
    "# 1 - probability of a truck showing up more than 2 times\n",
    "# 1 - .sf percent\n",
    "1 - stats.binom(n,p).sf(2)"
   ]
  },
  {
   "cell_type": "markdown",
   "metadata": {},
   "source": [
    "## Poisson Distribution\n",
    "- discrete random variable; number of events\n",
    "- discerte number of events over some time interval\n",
    "    - emails per day\n",
    "    - questions per hour\n",
    "    - bugs per week\n",
    "    - # of coffee break per day\n",
    "    - typos per minute\n",
    "- $\\lambda$ is the average rate over time"
   ]
  },
  {
   "cell_type": "code",
   "execution_count": null,
   "metadata": {},
   "outputs": [],
   "source": [
    "# Suppose students ask an average of 3.5 questions per lecture\n",
    "# What is the likelihood that more than 4 questions are asked during the stats lesson"
   ]
  },
  {
   "cell_type": "code",
   "execution_count": 77,
   "metadata": {},
   "outputs": [
    {
     "data": {
      "text/plain": [
       "0.2745550466903957"
      ]
     },
     "execution_count": 77,
     "metadata": {},
     "output_type": "execute_result"
    }
   ],
   "source": [
    "# We have a value and we're asking for a probability\n",
    "# We're looking for greater than 3.5\n",
    "# That tells us this is the survival function\n",
    "stats.poisson(3.5).sf(4)"
   ]
  },
  {
   "cell_type": "code",
   "execution_count": 82,
   "metadata": {},
   "outputs": [
    {
     "data": {
      "text/plain": [
       "Text(0.5, 0, '# of questions')"
      ]
     },
     "execution_count": 82,
     "metadata": {},
     "output_type": "execute_result"
    },
    {
     "data": {
      "image/png": "[encoded data removed]",
      "text/plain": [
       "<Figure size 432x288 with 1 Axes>"
      ]
     },
     "metadata": {
      "needs_background": "light"
     },
     "output_type": "display_data"
    }
   ],
   "source": [
    "# x is events from 0 to 11\n",
    "x = np.arange(0, 11)\n",
    "y = stats.poisson(3.5).pmf(x)\n",
    "plt.bar(x, y, ec=\"black\", width=1)\n",
    "plt.ylabel(\"p(X = x)\") # X is our random variable, x is one specific value\n",
    "plt.xlabel(\"# of questions\")"
   ]
  },
  {
   "cell_type": "code",
   "execution_count": 84,
   "metadata": {},
   "outputs": [
    {
     "data": {
      "text/plain": [
       "0.32084719886213414"
      ]
     },
     "execution_count": 84,
     "metadata": {},
     "output_type": "execute_result"
    }
   ],
   "source": [
    "# What's the likelihood that 2 or fewer questions are asked?\n",
    "stats.poisson(3.5).cdf(2)"
   ]
  },
  {
   "cell_type": "code",
   "execution_count": 85,
   "metadata": {},
   "outputs": [
    {
     "data": {
      "text/plain": [
       "0.18473675547622787"
      ]
     },
     "execution_count": 85,
     "metadata": {},
     "output_type": "execute_result"
    }
   ],
   "source": [
    "# Let's model food trucks over time using a Poisson distribution\n",
    "# Given p(food truck shows up in one day), number of days\n",
    "\n",
    "# For poisson, we need an average over time\n",
    "# On average, 3 food trucks show up per week\n",
    "# For a given week, what's the likelihood that a food truck shows up every day?\n",
    "# p(5 or more food trucks show up)?\n",
    "\n",
    "# We don't have a function for 5 or more\n",
    "# .sf(4) does give us the probability of more than 4 (which works b/c we don't have 4.3 food trucks)\n",
    "stats.poisson(3).sf(4)\n"
   ]
  },
  {
   "cell_type": "code",
   "execution_count": null,
   "metadata": {},
   "outputs": [],
   "source": []
  }
 ],
 "metadata": {
  "kernelspec": {
   "display_name": "Python 3",
   "language": "python",
   "name": "python3"
  },
  "language_info": {
   "codemirror_mode": {
    "name": "ipython",
    "version": 3
   },
   "file_extension": ".py",
   "mimetype": "text/x-python",
   "name": "python",
   "nbconvert_exporter": "python",
   "pygments_lexer": "ipython3",
   "version": "3.7.3"
  }
 },
 "nbformat": 4,
 "nbformat_minor": 4
}
