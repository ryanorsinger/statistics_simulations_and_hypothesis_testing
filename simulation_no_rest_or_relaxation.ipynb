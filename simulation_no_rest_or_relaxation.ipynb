{
 "cells": [
  {
   "cell_type": "code",
   "execution_count": null,
   "metadata": {},
   "outputs": [],
   "source": [
    "%matplotlib inline\n",
    "import numpy as np\n",
    "import pandas as pd\n",
    "\n",
    "import scipy.stats as stats\n",
    "import matplotlib.pyplot as plt\n",
    "import seaborn as sns\n",
    "from math import sqrt\n",
    "\n",
    "np.random.seed(23)"
   ]
  },
  {
   "cell_type": "markdown",
   "metadata": {},
   "source": [
    "There's a 30% chance my son takes a nap on any given weekend day. \n",
    "\n",
    "What is the chance that he takes a nap at least one day this weekend? \n",
    "\n",
    "What is the probability that he doesn't nap at all?"
   ]
  },
  {
   "cell_type": "code",
   "execution_count": null,
   "metadata": {},
   "outputs": [],
   "source": [
    "p_nap = 0.3\n",
    "ndays = ncols = 2\n",
    "n_simulated_weekends = nrows = 10 ** 4"
   ]
  },
  {
   "cell_type": "code",
   "execution_count": null,
   "metadata": {},
   "outputs": [],
   "source": [
    "# To determine whether or not a nap is taken on a given day, \n",
    "# we'll generate a random number between 0 and 1, \n",
    "# it is a nap if it is less than our probability of taking a nap.\n",
    "data = np.random.random((nrows, ncols))\n",
    "data"
   ]
  },
  {
   "cell_type": "code",
   "execution_count": null,
   "metadata": {},
   "outputs": [],
   "source": [
    "naps = data < p_nap\n",
    "naps"
   ]
  },
  {
   "cell_type": "code",
   "execution_count": null,
   "metadata": {},
   "outputs": [],
   "source": [
    "naps.sum(axis=1)"
   ]
  },
  {
   "cell_type": "code",
   "execution_count": null,
   "metadata": {},
   "outputs": [],
   "source": [
    "freq, bins = np.histogram(naps.sum(axis=1), bins=[0, 1, 2, 3])\n",
    "\n",
    "freq = freq / freq.sum()\n",
    "plt.bar(bins[:-1], freq, width=1, color='lightskyblue', edgecolor='black')\n",
    "plt.xticks([0, 1, 2])\n",
    "plt.xlabel('# of naps taken')\n",
    "plt.ylabel('% of time this outcome occurs')\n",
    "num_simulations = '{:,}'.format(nrows)\n",
    "plt.title(f'Results of {num_simulations} simulations of toddler naps over a weekend')\n"
   ]
  },
  {
   "cell_type": "code",
   "execution_count": null,
   "metadata": {},
   "outputs": [],
   "source": [
    "# Let's use this data to answer our original question: \n",
    "# What is the probability of at least one nap taken"
   ]
  },
  {
   "cell_type": "code",
   "execution_count": null,
   "metadata": {},
   "outputs": [],
   "source": [
    "p_at_least_one_nap = (naps.sum(axis=1) >= 1).mean()\n",
    "f'Probability of at least one nap taken is {p_at_least_one_nap}'"
   ]
  },
  {
   "cell_type": "code",
   "execution_count": null,
   "metadata": {},
   "outputs": [],
   "source": [
    "# What is the probability no naps are taken?\n",
    "p_no_naps = (naps.sum(axis=1) == 0).mean()\n",
    "f\"Probability of zero nap taken is {p_no_naps}\""
   ]
  },
  {
   "cell_type": "code",
   "execution_count": null,
   "metadata": {},
   "outputs": [],
   "source": []
  },
  {
   "cell_type": "code",
   "execution_count": null,
   "metadata": {},
   "outputs": [],
   "source": []
  }
 ],
 "metadata": {
  "kernelspec": {
   "display_name": "Python 3",
   "language": "python",
   "name": "python3"
  },
  "language_info": {
   "codemirror_mode": {
    "name": "ipython",
    "version": 3
   },
   "file_extension": ".py",
   "mimetype": "text/x-python",
   "name": "python",
   "nbconvert_exporter": "python",
   "pygments_lexer": "ipython3",
   "version": "3.7.3"
  }
 },
 "nbformat": 4,
 "nbformat_minor": 2
}
