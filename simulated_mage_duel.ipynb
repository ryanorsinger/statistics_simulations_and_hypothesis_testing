{
 "cells": [
  {
   "cell_type": "code",
   "execution_count": 1,
   "metadata": {},
   "outputs": [],
   "source": [
    "%matplotlib inline\n",
    "import numpy as np\n",
    "import pandas as pd\n",
    "import scipy.stats as stats\n",
    "import matplotlib.pyplot as plt\n",
    "import seaborn as sns\n",
    "\n",
    "np.random.seed(23)"
   ]
  },
  {
   "cell_type": "markdown",
   "metadata": {},
   "source": [
    "## Mage Duel!\n",
    "\n",
    "Let's use what we've learned to play a mage duel!\n",
    "\n",
    "Imagine your character has 6d4 health points and you have spells that do 6d4 damage. \"6d4\" means rolling six 4-sided dice and summing the result.\n",
    "\n",
    "Your opposing mage has 4d6 health points and spells that do 4d6. \"4d6\" means rolling four six-sided dice and summing the result."
   ]
  },
  {
   "cell_type": "markdown",
   "metadata": {},
   "source": [
    "### Exercises\n",
    "\n",
    "Simulate mage duels to answer *who is the more powerful mage*?\n",
    "\n",
    "1. Before running simulations, do you have a hypothesis of which mage will win?\n",
    "1. Simulate 10 mage duels. Is there a clear winner? Run that 10 duel simulation again. Was the answer similar?\n",
    "1. Now, simulate 10,000 mage duels. Is there a clear winner?\n"
   ]
  },
  {
   "cell_type": "code",
   "execution_count": null,
   "metadata": {},
   "outputs": [],
   "source": []
  }
 ],
 "metadata": {
  "kernelspec": {
   "display_name": "Python 3",
   "language": "python",
   "name": "python3"
  },
  "language_info": {
   "codemirror_mode": {
    "name": "ipython",
    "version": 3
   },
   "file_extension": ".py",
   "mimetype": "text/x-python",
   "name": "python",
   "nbconvert_exporter": "python",
   "pygments_lexer": "ipython3",
   "version": "3.7.3"
  }
 },
 "nbformat": 4,
 "nbformat_minor": 2
}
