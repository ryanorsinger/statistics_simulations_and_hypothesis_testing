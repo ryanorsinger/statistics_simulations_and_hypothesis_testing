{
 "cells": [
  {
   "cell_type": "code",
   "execution_count": 213,
   "metadata": {},
   "outputs": [],
   "source": [
    "import numpy as np\n",
    "import pandas as pd\n",
    "\n",
    "np.random.seed(23)"
   ]
  },
  {
   "cell_type": "markdown",
   "metadata": {},
   "source": [
    "## Exercise 2\n",
    "\n",
    "### If you flip 8 coins...\n",
    "- What is the probability of getting exactly 3 heads? \n",
    "- What is the probability of getting more than 3 heads?"
   ]
  },
  {
   "cell_type": "code",
   "execution_count": 214,
   "metadata": {},
   "outputs": [],
   "source": [
    "# If you flip 8 coins\n",
    "# What is the probability of getting exactly 3 heads? \n",
    "# What is the probability of getting more than 3 heads?\n",
    "\n",
    "# Flip 8 coins\n",
    "n_coins = 8\n",
    "\n",
    "# With this many simulations\n",
    "n_simulations = 100_000\n",
    "\n",
    "# Heads is 1 and Tails is 0.\n",
    "flips = np.random.choice([0, 1], n_simulations * n_coins).reshape(n_simulations, n_coins)"
   ]
  },
  {
   "cell_type": "code",
   "execution_count": 215,
   "metadata": {},
   "outputs": [
    {
     "data": {
      "text/plain": [
       "array([1, 0, 0, 1, 0, 0, 1, 1])"
      ]
     },
     "execution_count": 215,
     "metadata": {},
     "output_type": "execute_result"
    }
   ],
   "source": [
    "# Peek at the first row\n",
    "flips[0]"
   ]
  },
  {
   "cell_type": "code",
   "execution_count": 216,
   "metadata": {},
   "outputs": [],
   "source": [
    "# .sum(axis=1) sums up each row\n",
    "results = flips.sum(axis=1)"
   ]
  },
  {
   "cell_type": "code",
   "execution_count": 217,
   "metadata": {},
   "outputs": [
    {
     "data": {
      "text/plain": [
       "0.21894"
      ]
     },
     "execution_count": 217,
     "metadata": {},
     "output_type": "execute_result"
    }
   ],
   "source": [
    "# What is the probability of getting exactly 3 heads? \n",
    "(results == 3).mean()"
   ]
  },
  {
   "cell_type": "code",
   "execution_count": 218,
   "metadata": {},
   "outputs": [
    {
     "data": {
      "text/plain": [
       "0.6376"
      ]
     },
     "execution_count": 218,
     "metadata": {},
     "output_type": "execute_result"
    }
   ],
   "source": [
    "# What is the probability of getting more than 3 heads?\n",
    "(results > 3).mean()"
   ]
  },
  {
   "cell_type": "markdown",
   "metadata": {},
   "source": [
    "## Exercise 3\n",
    "\n",
    "There are approximitely 3 web development cohorts for every 1 data science cohort at Codeup. \n",
    "\n",
    "Assuming that Codeup randomly selects an alumni to put on a billboard, what are the odds that the two billboards I drive past both have data science students on them?\n"
   ]
  },
  {
   "cell_type": "code",
   "execution_count": 219,
   "metadata": {},
   "outputs": [],
   "source": [
    "outcomes = np.random.choice([\"Web Dev\", \"Data Science\"], 100_000, p=[.75, .25]).reshape(50000, 2)"
   ]
  },
  {
   "cell_type": "code",
   "execution_count": 220,
   "metadata": {},
   "outputs": [
    {
     "data": {
      "text/plain": [
       "0.25064"
      ]
     },
     "execution_count": 220,
     "metadata": {},
     "output_type": "execute_result"
    }
   ],
   "source": [
    "(outcomes == [\"Data Science\", \"Data Science\"]).mean()"
   ]
  },
  {
   "cell_type": "markdown",
   "metadata": {},
   "source": [
    "## Exercise 4\n",
    "Codeup students buy, on average, 3 poptart packages (+- 1.5) a day from the snack vending machine. \n",
    "\n",
    "If on monday the machine is restocked with 17 poptart packages, how likely is it that I will be able to buy some poptarts on Friday afternoon?\n"
   ]
  },
  {
   "cell_type": "code",
   "execution_count": 221,
   "metadata": {},
   "outputs": [],
   "source": [
    "# Round the poptart values b/c we can't buy fractions of poptarts from a vending machine\n",
    "poptarts = np.round(np.random.normal(3, 1.5, size=(100_000, 5)))"
   ]
  },
  {
   "cell_type": "code",
   "execution_count": 222,
   "metadata": {},
   "outputs": [
    {
     "name": "stdout",
     "output_type": "stream",
     "text": [
      "Standard Deviation is 1.526301573849677\n",
      "Mean is 3.003392\n"
     ]
    }
   ],
   "source": [
    "print(f\"Standard Deviation is {poptarts.std()}\")\n",
    "print(f\"Mean is {poptarts.mean()}\")"
   ]
  },
  {
   "cell_type": "code",
   "execution_count": 223,
   "metadata": {},
   "outputs": [
    {
     "data": {
      "text/plain": [
       "array([4., 2., 2., 5., 4.])"
      ]
     },
     "execution_count": 223,
     "metadata": {},
     "output_type": "execute_result"
    }
   ],
   "source": [
    "# First week's poptart consumption. \n",
    "# Each row simulates a week\n",
    "poptarts[0]"
   ]
  },
  {
   "cell_type": "code",
   "execution_count": 224,
   "metadata": {},
   "outputs": [],
   "source": [
    "# .sum(axis=1) sums up each row which means the total of poptarts purchased that week\n",
    "weekly_demand = poptarts.sum(axis=1)"
   ]
  },
  {
   "cell_type": "code",
   "execution_count": 225,
   "metadata": {},
   "outputs": [
    {
     "data": {
      "text/plain": [
       "0.66855"
      ]
     },
     "execution_count": 225,
     "metadata": {},
     "output_type": "execute_result"
    }
   ],
   "source": [
    "# how many weeks have less demand than 17 poptarts\n",
    "(weekly_demand < 17).mean()"
   ]
  },
  {
   "cell_type": "markdown",
   "metadata": {},
   "source": [
    "## Exercise 5\n",
    "\n",
    "#### Compare Heights\n",
    "\n",
    "- Men have an average height of 178 cm and standard deviation of 8cm.\n",
    "- Women have a mean of 170, sd = 6cm.\n",
    "- If a man and woman are chosen at random, P(woman taller than man)?\n"
   ]
  },
  {
   "cell_type": "code",
   "execution_count": 226,
   "metadata": {},
   "outputs": [],
   "source": [
    "trials = 100_000\n",
    "m_heights = np.random.normal(178, 8, trials)\n",
    "f_heights = np.random.normal(170, 6, trials)"
   ]
  },
  {
   "cell_type": "code",
   "execution_count": 227,
   "metadata": {},
   "outputs": [
    {
     "data": {
      "text/plain": [
       "0.78824"
      ]
     },
     "execution_count": 227,
     "metadata": {},
     "output_type": "execute_result"
    }
   ],
   "source": [
    "# p(male heights > female heights)\n",
    "(m_heights > f_heights).mean()"
   ]
  },
  {
   "cell_type": "markdown",
   "metadata": {},
   "source": [
    "## Exercise 6\n",
    "\n",
    "When installing anaconda on a student's computer, there's a 1 in 250 chance that the download is corrupted and the installation fails\n",
    "\n",
    "- What are the odds that after having 50 students download anaconda, no one has an installation issue? \n",
    "- 100 students?\n",
    "- What is the probability that we observe an installation issue within the first 150 students that download anaconda?\n",
    "- How likely is it that 450 students all download anaconda without an issue?\n",
    "\n",
    "\n"
   ]
  },
  {
   "cell_type": "code",
   "execution_count": 254,
   "metadata": {},
   "outputs": [],
   "source": [
    "# We'll work with a million installs as our input data\n",
    "trials = 1_000_000\n",
    "\n",
    "installs = np.random.choice([0, 1], trials, p=([1/250, 249/250]))"
   ]
  },
  {
   "cell_type": "code",
   "execution_count": 255,
   "metadata": {},
   "outputs": [
    {
     "data": {
      "text/plain": [
       "50"
      ]
     },
     "execution_count": 255,
     "metadata": {},
     "output_type": "execute_result"
    }
   ],
   "source": [
    "# If the english in the problem says \"What's P(E) of an event happening in a row...\"\n",
    "# That means the code with have n_in_a_row\n",
    "# And we'll reshape the matrix.\n",
    "\n",
    "n_in_a_row = 50\n",
    "\n",
    "# Using the // operator here to return an integer\n",
    "observations = trials // n_in_a_row\n",
    "\n",
    "observations_of_n_in_a_row = installs.reshape(observations, n_in_a_row)\n",
    "\n",
    "observations_of_n_in_a_row[0].size"
   ]
  },
  {
   "cell_type": "code",
   "execution_count": 259,
   "metadata": {},
   "outputs": [
    {
     "data": {
      "text/plain": [
       "0.8195"
      ]
     },
     "execution_count": 259,
     "metadata": {},
     "output_type": "execute_result"
    }
   ],
   "source": [
    "# Probability of 50 installs go smoothly\n",
    "# (observations_of_n_in_a_row.sum(axis=1) == 50).mean()\n",
    "(observations_of_n_in_a_row.sum(axis=1) == n_in_a_row).mean()"
   ]
  },
  {
   "cell_type": "code",
   "execution_count": 260,
   "metadata": {},
   "outputs": [
    {
     "data": {
      "text/plain": [
       "0.6713"
      ]
     },
     "execution_count": 260,
     "metadata": {},
     "output_type": "execute_result"
    }
   ],
   "source": [
    "# Probability of 100 installs going smoothly in a row\n",
    "# P(100 in a row)\n",
    "n_in_a_row = 100\n",
    "observations = trials // n_in_a_row\n",
    "observations_of_n_in_a_row = installs.reshape(observations, n_in_a_row)\n",
    "\n",
    "(observations_of_n_in_a_row.sum(axis=1) == n_in_a_row).mean()"
   ]
  },
  {
   "cell_type": "code",
   "execution_count": null,
   "metadata": {},
   "outputs": [],
   "source": []
  }
 ],
 "metadata": {
  "kernelspec": {
   "display_name": "Python 3",
   "language": "python",
   "name": "python3"
  },
  "language_info": {
   "codemirror_mode": {
    "name": "ipython",
    "version": 3
   },
   "file_extension": ".py",
   "mimetype": "text/x-python",
   "name": "python",
   "nbconvert_exporter": "python",
   "pygments_lexer": "ipython3",
   "version": "3.7.3"
  }
 },
 "nbformat": 4,
 "nbformat_minor": 4
}
