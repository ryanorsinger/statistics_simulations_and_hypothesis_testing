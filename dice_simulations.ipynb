{
 "cells": [
  {
   "cell_type": "markdown",
   "metadata": {},
   "source": [
    "# Dice Simulations\n",
    "> \"Let's answer questions experimentally rather than theoretically.\" - Zach Gulde"
   ]
  },
  {
   "cell_type": "code",
   "execution_count": 2,
   "metadata": {},
   "outputs": [],
   "source": [
    "import numpy as np\n",
    "import pandas as pd\n",
    "import matplotlib.pyplot as plt"
   ]
  },
  {
   "cell_type": "markdown",
   "metadata": {},
   "source": [
    "## How likely is it that you roll doubles when rolling two dice?"
   ]
  },
  {
   "cell_type": "code",
   "execution_count": 35,
   "metadata": {},
   "outputs": [
    {
     "name": "stdout",
     "output_type": "stream",
     "text": [
      "There is a 16.57% chance of rolling doubles on two dice\n"
     ]
    }
   ],
   "source": [
    "d6 = [1, 2, 3, 4, 5, 6]\n",
    "\n",
    "n_trials = 100000\n",
    "n_dice = 2\n",
    "\n",
    "# generate n_trials of n_dice, and .reshape into (n_trials, n_dice\n",
    "rolls = np.random.choice(d6, n_trials * n_dice).reshape(n_trials, n_dice)\n",
    "df = pd.DataFrame(rolls)\n",
    "df[\"doubles\"] = df[0] == df[1]\n",
    "\n",
    "number_of_doubles = df.doubles.sum()\n",
    "chance = number_of_doubles / n_trials\n",
    "print(f\"There is a {chance * 100}% chance of rolling doubles on two dice\")"
   ]
  },
  {
   "cell_type": "markdown",
   "metadata": {},
   "source": []
  },
  {
   "cell_type": "code",
   "execution_count": null,
   "metadata": {},
   "outputs": [],
   "source": []
  },
  {
   "cell_type": "code",
   "execution_count": null,
   "metadata": {},
   "outputs": [],
   "source": []
  }
 ],
 "metadata": {
  "kernelspec": {
   "display_name": "Python 3",
   "language": "python",
   "name": "python3"
  },
  "language_info": {
   "codemirror_mode": {
    "name": "ipython",
    "version": 3
   },
   "file_extension": ".py",
   "mimetype": "text/x-python",
   "name": "python",
   "nbconvert_exporter": "python",
   "pygments_lexer": "ipython3",
   "version": "3.7.3"
  }
 },
 "nbformat": 4,
 "nbformat_minor": 4
}
